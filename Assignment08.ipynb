{
 "cells": [
  {
   "cell_type": "markdown",
   "metadata": {},
   "source": [
    "# Assignment 08\n",
    "\n",
    "Now we will design a bigger, more complex database. Apply all your knowledge of good schema design.\n",
    "\n",
    "For this assignment you cannot use SQL magic. You can use `datajoint` or `pymysql`.\n",
    "\n",
    "Select one of the following two projects.  Alternatively, you are welcome to come up with your own schema proposal of equal complexity."
   ]
  },
  {
   "cell_type": "markdown",
   "metadata": {},
   "source": [
    "## Option 1. Food Delivery Service Database\n",
    "\n",
    "**Objective**: Design a database to support a food delivery app’s logistics and orders.\n",
    "\n",
    "**Schema design**: \n",
    "The app lists several restaurants of different cousines. Each retaurant has a different menu comprising items and prices (and calories if you like).\n",
    "The database represents customers with a home address, identified by their cell phone. \n",
    "Customer place orders to a specific restaurant selecting items from the menu and their quantity.\n",
    "The database matches delivery drivers (identified by their cellphones too) to orders. A delivery is initiated from an order and once completed contains the delivery status, and tip amount. Upon each delivery, the customer and the driver give each other star rankings 1-5.\n",
    "\n",
    "**Generate data**: \n",
    "Populate at least three restaurants with at least ten menu items each. Populate at least 20 customers and 5 drivers. Generate at least 100 orders and deliveries.\n",
    "\n",
    "Tips:\n",
    "* Potential tables: Restaurant, Menu, MenuItem, Customer, Driver, Order, OrderItem, Delivery\n",
    "* You may use faker to generate test data\n",
    "* You make ask ChatGPT (or your AI of choice) to generate more interesting data such as menus and prices.\n",
    "\n",
    "**Queries**\n",
    "1. List all restaurants, including their average menu item price\n",
    "2. Pick a customer and list all the orders that he or she has placed in the past month, including the total amount on each order and the tip.\n",
    "3. Show all restaurants with their total numbers of orders and total sales amounts.\n",
    "4. Show all customers with who tip more than 15% on average and have 4-star rating or better.\n",
    "5. Pick a driver and list all the customers that have given him 2-star rating or worse.\n",
    "6. Come up with your own fancy query and explain it.\n"
   ]
  },
  {
   "cell_type": "markdown",
   "metadata": {},
   "source": [
    "## Option 2. Job Recruitment and Matching Platform\n",
    "**Objective**: Design a schema for a recruitment platform that matches job seekers with open positions.\n",
    "\n",
    "**Schema design**:  This database contains job seekers (identified by their cell phone numbers) with a list of skills and proficiency levels (Basic, Intermediate, Expert). The skill must come from a given lookup table. The database also contains empoyers and their job postings with required skills and proficiency levels, and a salary range. A candidate is a job seeker who has applied for a specific job posting. Only one applicaton is allowed per posting from each seeker.\n",
    "\n",
    "You may choose a narrow specialization (e.g. graphic design or database engineering) for the jobs and applicants.\n",
    "\n",
    "**Generate data**\n",
    "Populate at least 10 skills, at least 3 employers, at least 100 job postings with 1-5 required skills, and least 1000 jobs seekres with 1-10 skills. \n",
    "\n",
    "Tips:\n",
    "* Potential tables: Skill, Seeker, SeekerSkill, Employeer, Posting, Application, ApplicationSkill\n",
    "* You may use faker to generate test data\n",
    "* You make ask ChatGPT (or another AI) to generate more interesting data such as jobs and required skills.\n",
    "\n",
    "**Queries**\n",
    "1. Pick a job seeker and show all the jobs they have applied for\n",
    "2. Pick a job posting and show all the applicants.\n",
    "3. Show all the companies along with the total number of their job postings, applicants, and average max salary.\n",
    "4. (difficult) Pick a job posting and show all qualified job seekers (those who have all the required skills)\n",
    "5. (difficult) Pick a job seeker and show all the positions for which she has all the required skills.\n",
    "6. Come up with your own fancy query and explain it."
   ]
  },
  {
   "cell_type": "markdown",
   "metadata": {},
   "source": [
    "## Option 3. Your own ideas\n",
    "Perhaps you have your own application you would like to design a database for.\n",
    "Propose it to the instructor and work on it instead.\n",
    "\n",
    "Populate your database with real or synthetic data and generate six meaningful queries.\n",
    "\n",
    "The complexity of the schema design and queries must be of equivalent complexity to the designs above: 6-10 tables."
   ]
  },
  {
   "cell_type": "markdown",
   "metadata": {},
   "source": []
  },
  {
   "cell_type": "code",
   "execution_count": null,
   "metadata": {},
   "outputs": [
    {
     "ename": "",
     "evalue": "",
     "output_type": "error",
     "traceback": [
      "\u001b[1;31mRunning cells with 'Python 3.12.7' requires the ipykernel package.\n",
      "\u001b[1;31mRun the following command to install 'ipykernel' into the Python environment. \n",
      "\u001b[1;31mCommand: '/usr/bin/python -m pip install ipykernel -U --user --force-reinstall'"
     ]
    }
   ],
   "source": [
    "import datajoint as dj\n",
    "schema = dj.Schema('fooddelivery')"
   ]
  },
  {
   "cell_type": "code",
   "execution_count": null,
   "metadata": {},
   "outputs": [],
   "source": [
    "import pymysql\n",
    "import os\n",
    "pymysql.install_as_MySQLdb()\n",
    "\n",
    "connection_string = \"mysql://{user}:{password}@{host}\".format(\n",
    "    user=os.environ['DJ_USER'],\n",
    "    host=os.environ['DJ_HOST'],\n",
    "    password=os.environ['DJ_PASS']\n",
    ")\n",
    "\n",
    "%load_ext sql\n",
    "%sql $connection_string"
   ]
  },
  {
   "cell_type": "code",
   "execution_count": null,
   "metadata": {},
   "outputs": [],
   "source": [
    "%config SqlMagic.style = '_DEPRECATED_DEFAULT'"
   ]
  },
  {
   "cell_type": "code",
   "execution_count": null,
   "metadata": {},
   "outputs": [],
   "source": []
  }
 ],
 "metadata": {
  "kernelspec": {
   "display_name": "Python 3",
   "language": "python",
   "name": "python3"
  },
  "language_info": {
   "codemirror_mode": {
    "name": "ipython",
    "version": 3
   },
   "file_extension": ".py",
   "mimetype": "text/x-python",
   "name": "python",
   "nbconvert_exporter": "python",
   "pygments_lexer": "ipython3",
   "version": "3.12.7"
  }
 },
 "nbformat": 4,
 "nbformat_minor": 2
}
